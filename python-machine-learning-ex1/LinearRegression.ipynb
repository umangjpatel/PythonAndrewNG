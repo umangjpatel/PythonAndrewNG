{
 "cells": [
  {
   "cell_type": "markdown",
   "metadata": {},
   "source": [
    "<h1>Coursera Andrew NG Machine Learning Course Week 2 in Python</h1>\n",
    "<p>I am going to implement the programming assignment of this course in Python from scratch. In this exercise, we will implement linear regression and get to see it work on data.</p>"
   ]
  },
  {
   "cell_type": "markdown",
   "metadata": {},
   "source": [
    "<h3>Importing packages</h3>\n",
    "<ol>\n",
    "    <li>Numpy, for vectorized calculations</li>\n",
    "    <li>Matplotlib, for data visualization</li>\n",
    "    <li>Pandas, for reading the dataset</li>\n",
    "</ol>"
   ]
  },
  {
   "cell_type": "code",
   "execution_count": 1,
   "metadata": {},
   "outputs": [],
   "source": [
    "import numpy as np\n",
    "import matplotlib.pyplot as plt\n",
    "import pandas as pd"
   ]
  },
  {
   "cell_type": "markdown",
   "metadata": {},
   "source": [
    "<h2>Linear regression with one variable</h2>"
   ]
  },
  {
   "cell_type": "markdown",
   "metadata": {},
   "source": [
    "<h3>Reading the dataset</h3>\n",
    "<p>In this part, I will implement linear regression with one variable to predict profits for a food truck. Suppose you are the CEO of a restaurant franchise and are considering different cities for opening a new outlet. The chain already has trucks in various cities and you have data for profits and populations from the cities. You would like to use this data to help you select which city to expand to next.</p>\n",
    "<p>The file 'ex1data1.txt' contains the dataset for our linear regression prob- lem. The first column is the population of a city and the second column is the profit of a food truck in that city. A negative value for profit indicates a loss.</p>\n",
    "<p>Using pandas' read_csv() function, we read the dataset and store the resultant DataFrame into the 'dataset' variable. Then, we rename the columns of the DataFrame for my convenience, and print the first 5 entries</p>"
   ]
  },
  {
   "cell_type": "code",
   "execution_count": 2,
   "metadata": {},
   "outputs": [
    {
     "name": "stdout",
     "output_type": "stream",
     "text": [
      "      Pop   Profit\n",
      "0  6.1101  17.5920\n",
      "1  5.5277   9.1302\n",
      "2  8.5186  13.6620\n",
      "3  7.0032  11.8540\n",
      "4  5.8598   6.8233\n"
     ]
    }
   ],
   "source": [
    "dataset = pd.read_csv('ex1data1.txt', header=None)\n",
    "dataset.columns = ['Pop', 'Profit']\n",
    "print(dataset.head())"
   ]
  },
  {
   "cell_type": "markdown",
   "metadata": {},
   "source": [
    "<h3>Plotting the Data</h3>\n",
    "<p>Before starting on any task, it is often useful to understand the data by visualizing it. For this dataset, you can use a scatter plot to visualize the data, since it has only two properties to plot (profit and population). (Many other problems that you will encounter in real life are multi-dimensional and can’t be plotted on a 2-d plot.)</p>\n",
    "<p>Firstly, we will separate our dataset into two parts :</p>\n",
    "<ol>\n",
    "    <li>Features (values which act as the independent variables)</li>\n",
    "    <li>Observations (values which act as the dependent variables)</li>\n",
    "</ol>\n",
    "<p>Next, we display a scatter plot between the population (features) and profits (observations) using Matplotlib's scatter() function. To make our plot more informative, we add labels on both x-axis and y-axis as well as a title.</p>"
   ]
  },
  {
   "cell_type": "code",
   "execution_count": 3,
   "metadata": {},
   "outputs": [
    {
     "data": {
      "image/png": "[encoded data removed]",
      "text/plain": [
       "<Figure size 432x288 with 1 Axes>"
      ]
     },
     "metadata": {
      "needs_background": "light"
     },
     "output_type": "display_data"
    }
   ],
   "source": [
    "features = dataset['Pop']\n",
    "observations = dataset['Profit']\n",
    "\n",
    "plt.scatter(features, observations, color=\"red\", marker=\"x\")\n",
    "plt.xlabel('Population of City in 10,000s')\n",
    "plt.ylabel('Profit in $10,000s')\n",
    "plt.title('Before Regression')\n",
    "plt.show()"
   ]
  },
  {
   "cell_type": "markdown",
   "metadata": {},
   "source": [
    "<h3>Adding 1's to the feature vector</h3>\n",
    "<p>I'll add another dimension to our data to accommodate the θ0 intercept term so that we can easily do vectorize calculations between 'x' and 'theta'.</p>"
   ]
  },
  {
   "cell_type": "code",
   "execution_count": 4,
   "metadata": {},
   "outputs": [
    {
     "name": "stdout",
     "output_type": "stream",
     "text": [
      "(97, 2)\n",
      "(97,)\n"
     ]
    }
   ],
   "source": [
    "features = features.values\n",
    "observations = observations.values\n",
    "features = np.column_stack((np.ones(features.shape[0]), features))\n",
    "print(features.shape)\n",
    "print(observations.shape)"
   ]
  },
  {
   "cell_type": "markdown",
   "metadata": {},
   "source": [
    "<h3>Initializing theta parameters</h3>\n",
    "<p>I'll also initialize the initial theta parameters to 0</p>"
   ]
  },
  {
   "cell_type": "code",
   "execution_count": 5,
   "metadata": {},
   "outputs": [],
   "source": [
    "theta = np.zeros(features.shape[1])"
   ]
  },
  {
   "cell_type": "markdown",
   "metadata": {},
   "source": [
    "<h3>Computing the cost function J(θ)</h3>\n",
    "<p>As we perform gradient descent to learn minimize the cost function J(θ), it is helpful to monitor the convergence by computing the cost. In this section, you will implement a function to calculate J(θ) so you can check the convergence of your gradient descent implementation.</p>"
   ]
  },
  {
   "cell_type": "code",
   "execution_count": 6,
   "metadata": {},
   "outputs": [
    {
     "name": "stdout",
     "output_type": "stream",
     "text": [
      "32.072733877455676\n"
     ]
    }
   ],
   "source": [
    "def cost_function(theta, x, y):\n",
    "    m = y.shape[0]\n",
    "    return (1 / (2 * m)) * np.sum((np.dot(x, theta) - y) ** 2)\n",
    "\n",
    "print(cost_function(theta, features, observations))"
   ]
  },
  {
   "cell_type": "markdown",
   "metadata": {},
   "source": [
    "<h3>Gradient Descent</h3>\n",
    "<p>In gradient descent, we estimate the parameters in the hypothesis function that leads to minimization of the cost function. In other words, we try to get the optimal values of theta such that our regression line fits the data well.\n",
    "The way we do this is by taking the derivative (the tangent line to a function) of our cost function. The slope of the tangent is the derivative at that point and it will give us a direction to move towards. We make steps down the cost function in the direction with the steepest descent. The size of each step is determined by the parameter alpha, which is called the learning rate.</p>"
   ]
  },
  {
   "cell_type": "code",
   "execution_count": 7,
   "metadata": {},
   "outputs": [
    {
     "name": "stdout",
     "output_type": "stream",
     "text": [
      "[-3.63029144  1.16636235]\n"
     ]
    }
   ],
   "source": [
    "def gradient_descent(theta, x, y, iterations=1500, alpha=0.01):\n",
    "    m = y.shape[0]\n",
    "    for _ in range(iterations):\n",
    "        prediction = np.dot(x, theta)\n",
    "        error = prediction - y\n",
    "        theta = theta - ((alpha / m) * np.dot(x.T, error))\n",
    "    return theta\n",
    "\n",
    "theta = gradient_descent(theta, features, observations)\n",
    "print(theta)"
   ]
  },
  {
   "cell_type": "markdown",
   "metadata": {},
   "source": [
    "<h3>Visualizing regression line on our data</h3>\n",
    "<p>We get the optimal paramters for which the cost function is converged to minimum. Now we use both the parameters so as to visualize how well the regression line fits to our data</p>"
   ]
  },
  {
   "cell_type": "code",
   "execution_count": 8,
   "metadata": {},
   "outputs": [
    {
     "data": {
      "image/png": "[encoded data removed]",
      "text/plain": [
       "<Figure size 432x288 with 1 Axes>"
      ]
     },
     "metadata": {
      "needs_background": "light"
     },
     "output_type": "display_data"
    }
   ],
   "source": [
    "plt.scatter(features[:,1], observations, color=\"red\", marker=\"x\")\n",
    "plt.plot(features[:,1], theta[0] + theta[1] * features[:,1], color=\"blue\")\n",
    "plt.xlabel('Population of City in 10,000s')\n",
    "plt.ylabel('Profit in $10,000s')\n",
    "plt.title('After Regression')\n",
    "plt.show()"
   ]
  },
  {
   "cell_type": "markdown",
   "metadata": {},
   "source": [
    "<h2>Linear Regression with multiple variables</h2>"
   ]
  },
  {
   "cell_type": "markdown",
   "metadata": {},
   "source": [
    "<h3>Advanced optimization library</h3>\n",
    "<p>Now, we can optimize the theta values more faster compared to our custom implementation. We borrow that functionality from Scipy library. This library contains various advance optimization algorithms under the 'optimize' submodule.</p>"
   ]
  },
  {
   "cell_type": "code",
   "execution_count": 9,
   "metadata": {},
   "outputs": [],
   "source": [
    "from scipy.optimize import fmin_tnc"
   ]
  },
  {
   "cell_type": "markdown",
   "metadata": {},
   "source": [
    "<h3>Reading the dataset</h3>\n",
    "<p>I will implement linear regression with multiple variables to predict the prices of houses. Suppose you are selling your house and you want to know what a good market price would be. One way to do this is to first collect information on recent houses sold and make a model of housing prices.</p>\n",
    "<p>The file 'ex1data2.txt' contains a training set of housing prices in Port- land, Oregon. The first column is the size of the house (in square feet), the second column is the number of bedrooms, and the third column is the price of the house.</p>\n",
    "<p>Using pandas' read_csv() function, we read the dataset and store the resultant DataFrame into the 'dataset' variable. Then, we rename the columns of the DataFrame for my convenience, and print the first 5 entries</p>"
   ]
  },
  {
   "cell_type": "code",
   "execution_count": 10,
   "metadata": {},
   "outputs": [
    {
     "name": "stdout",
     "output_type": "stream",
     "text": [
      "   Size  Bedrooms   Price\n",
      "0  2104         3  399900\n",
      "1  1600         3  329900\n",
      "2  2400         3  369000\n",
      "3  1416         2  232000\n",
      "4  3000         4  539900\n"
     ]
    }
   ],
   "source": [
    "dataset = pd.read_csv('ex1data2.txt', header=None)\n",
    "dataset.columns = ['Size', 'Bedrooms', 'Price']\n",
    "print(dataset.head())"
   ]
  },
  {
   "cell_type": "markdown",
   "metadata": {},
   "source": [
    "<h3>Dividing the dataset</h3>\n",
    "<p>We will separate our dataset into two parts :</p>\n",
    "<ol>\n",
    "    <li>Features {<b>Size</b> and <b>Bedrooms</b>} -> (values which act as the independent variables)</li>\n",
    "    <li>Observations {<b>Price</b>} -> (values which act as the dependent variables)</li>\n",
    "</ol>"
   ]
  },
  {
   "cell_type": "code",
   "execution_count": 11,
   "metadata": {},
   "outputs": [
    {
     "name": "stdout",
     "output_type": "stream",
     "text": [
      "(47, 2)\n",
      "(47,)\n"
     ]
    }
   ],
   "source": [
    "features = dataset[['Size', 'Bedrooms']].values\n",
    "observations = dataset['Price'].values\n",
    "print(features.shape)\n",
    "print(observations.shape)"
   ]
  },
  {
   "cell_type": "markdown",
   "metadata": {},
   "source": [
    "<h3>Adding 1's to the feature matrix</h3>\n",
    "<p>We add ones to the feature index 0 for all training examples as this allows us to do matrix operations with theta and x. Hence, making the two vectors 'theta' and 'x(i)' match each other element-wise i.e have the same number of elements.</p>"
   ]
  },
  {
   "cell_type": "code",
   "execution_count": 12,
   "metadata": {},
   "outputs": [
    {
     "name": "stdout",
     "output_type": "stream",
     "text": [
      "(47, 3)\n"
     ]
    }
   ],
   "source": [
    "features = np.column_stack((np.ones(features.shape[0]), features))\n",
    "print(features.shape)"
   ]
  },
  {
   "cell_type": "markdown",
   "metadata": {},
   "source": [
    "<h3>Plotting the data</h3>\n",
    "<p>Using Matplotlib, we will make a scatter plot between the size of the houses and the corresponding price of the houses</p>"
   ]
  },
  {
   "cell_type": "code",
   "execution_count": 13,
   "metadata": {},
   "outputs": [
    {
     "data": {
      "image/png": "[encoded data removed]",
      "text/plain": [
       "<Figure size 432x288 with 1 Axes>"
      ]
     },
     "metadata": {
      "needs_background": "light"
     },
     "output_type": "display_data"
    }
   ],
   "source": [
    "plt.scatter(features[:,1], observations, color=\"red\", marker=\"x\")\n",
    "plt.xlabel('Size of house (in sq. ft)')\n",
    "plt.ylabel('Price of house')\n",
    "plt.title('Before regression')\n",
    "plt.show()"
   ]
  },
  {
   "cell_type": "markdown",
   "metadata": {},
   "source": [
    "<h3>Initializing theta parameters</h3>\n",
    "<p>I'll initialize the initial theta parameters to 0</p>"
   ]
  },
  {
   "cell_type": "code",
   "execution_count": 14,
   "metadata": {},
   "outputs": [
    {
     "name": "stdout",
     "output_type": "stream",
     "text": [
      "[0. 0. 0.]\n"
     ]
    }
   ],
   "source": [
    "theta = np.zeros(features.shape[1])\n",
    "print(theta)"
   ]
  },
  {
   "cell_type": "markdown",
   "metadata": {},
   "source": [
    "<h3>Cost function and gradient</h3>\n",
    "<p>The objective of linear regression is to minimize our cost function and obtained optimized values of theta parameters that best fit our data. To do that, we create our own user-defined functions wherein :</p>\n",
    "<ul>\n",
    "    <li>\n",
    "        <b>cost_function_multi(theta, x, y)</b> :<br>\n",
    "        This function calculates the value of cost function for ith training example parameterized by theta\n",
    "    </li>\n",
    "    <li>\n",
    "        <b>gradient(theta, x, y)</b> :<br>\n",
    "            This function calculates the partial derivatives of the cost function for ith training example for each theta parameters.\n",
    "    </li>\n",
    "</ul>    "
   ]
  },
  {
   "cell_type": "code",
   "execution_count": 15,
   "metadata": {},
   "outputs": [],
   "source": [
    "def cost_function_multi(theta, x, y):\n",
    "    m = y.shape[0]\n",
    "    return (1 / (2 * m)) * np.sum((np.dot(x, theta) - y) ** 2)\n",
    "\n",
    "def gradient(theta, x, y):\n",
    "    m = y.shape[0]\n",
    "    error = np.dot(x, theta) - y\n",
    "    return (1 / m) * (np.dot(x.T, error))"
   ]
  },
  {
   "cell_type": "markdown",
   "metadata": {},
   "source": [
    "<h3>Advanced optimization algorithm</h3>\n",
    "<p>We will be using the 'fmin_tnc() function which takes the following parameters :</p>\n",
    "<ol>\n",
    "    <li>func : The name of the user-defined cost function (in our case, cost)</li>\n",
    "    <li>x0 : Initial values of theta</li>\n",
    "    <li>fprime : The name of the user-defined gradient function (in our case, gradient)</li>\n",
    "    <li>args : The tuple consisting of features (x) and labels (y)</li>\n",
    "</ol>\n",
    "<p>To speed up calculations for gradient descent, this function will make each of the feature values in roughly the same range. This can be done by calculating the z-score of each feature value. This technique is known as <b>feature normalization.</b></p>"
   ]
  },
  {
   "cell_type": "code",
   "execution_count": 16,
   "metadata": {},
   "outputs": [
    {
     "name": "stdout",
     "output_type": "stream",
     "text": [
      "[5663.17565769  151.87998841 8181.64611107]\n"
     ]
    }
   ],
   "source": [
    "def fit(x, y, theta):\n",
    "    theta = fmin_tnc(func=cost_function_multi, x0=theta, fprime=gradient, args=(x,y))\n",
    "    return theta[0]\n",
    "\n",
    "theta = fit(features, observations, theta)\n",
    "print(theta)"
   ]
  },
  {
   "cell_type": "markdown",
   "metadata": {},
   "source": [
    "<h3>Visualizing regression line on our data</h3>\n",
    "<p>To visualize the regression line on the scatter plot we plotted earlier, we require the intercept (theta[0]) and theta[1] parameters which are obtained after advanced optimization</p>\n",
    "<p>These theta parameters are put in equation y = mx + c to obtained the line plot</p>"
   ]
  },
  {
   "cell_type": "code",
   "execution_count": 17,
   "metadata": {},
   "outputs": [
    {
     "data": {
      "image/png": "[encoded data removed]",
      "text/plain": [
       "<Figure size 432x288 with 1 Axes>"
      ]
     },
     "metadata": {
      "needs_background": "light"
     },
     "output_type": "display_data"
    }
   ],
   "source": [
    "plt.scatter(features[:,1], observations, color=\"red\", marker=\"x\")\n",
    "plt.plot(features[:,1], theta[0] + theta[1] * features[:,1], color=\"blue\")\n",
    "plt.xlabel('Size of house (in sq. ft)')\n",
    "plt.ylabel('Price of house')\n",
    "plt.title('After regression')\n",
    "plt.show()"
   ]
  },
  {
   "cell_type": "markdown",
   "metadata": {},
   "source": [
    "<h2>Linear regression using Normal Equation</h2>"
   ]
  },
  {
   "cell_type": "markdown",
   "metadata": {},
   "source": [
    "<h3>Normal Equation</h3>\n",
    "<p>Gradient descent gives us one way of minimizing the cost function. There's a second way of doing so, this time performing the minimization explicitly without resorting to an iterative algorithm.\n",
    "In the \"Normal Equation\" method, we will minimize the cost function by explicitly taking the derivatives with respect to the theta and setting them to 0.</p>\n",
    "<p>This allows us to find the optimum theta without iteration. The normal equation formula is given below</p>\n",
    "<br>theta = (X<sup>T</sup>.X)<sup>-1</sup>.X<sup>T</sup>.y</br>\n",
    "<p>There is <b>no need to do feature normalization</b> with the normal equation</p>\n",
    "<p>With the normal equation, computing the inverse has the time complexity O(n3). So if we have a very large number of features, the normal equation will be slow. In practice, when number of features exceeds 10,000 it might be a good time to go from normal equation to an iterative process like gradient descent.</p>"
   ]
  },
  {
   "cell_type": "code",
   "execution_count": 18,
   "metadata": {},
   "outputs": [
    {
     "name": "stdout",
     "output_type": "stream",
     "text": [
      "[89597.9095428    139.21067402 -8738.01911233]\n"
     ]
    }
   ],
   "source": [
    "def normal_equation(x, y):\n",
    "    return np.dot(np.linalg.inv(np.dot(x.T, x)),np.dot(x.T, y))\n",
    "\n",
    "theta = normal_equation(features, observations)\n",
    "print(theta)"
   ]
  },
  {
   "cell_type": "markdown",
   "metadata": {},
   "source": [
    "<h3>Visualizing regression line on our data</h3>\n",
    "<pT>o visualize the regression line on the scatter plot we plotted earlier, we require the intercept (theta[0]) and theta[1] parameters which are obtained from the normal equation function.\n",
    "These theta parameters are put in equation y = mx + c to obtained the line plot</p>"
   ]
  },
  {
   "cell_type": "code",
   "execution_count": 19,
   "metadata": {},
   "outputs": [
    {
     "data": {
      "image/png": "[encoded data removed]",
      "text/plain": [
       "<Figure size 432x288 with 1 Axes>"
      ]
     },
     "metadata": {
      "needs_background": "light"
     },
     "output_type": "display_data"
    }
   ],
   "source": [
    "plt.scatter(features[:,1], observations, color=\"red\", marker=\"x\")\n",
    "plt.plot(features[:,1], theta[0] + theta[1] * features[:,1], color=\"blue\")\n",
    "plt.xlabel('Size of house (in sq. ft)')\n",
    "plt.ylabel('Price of house')\n",
    "plt.title('After regression')\n",
    "plt.show()"
   ]
  }
 ],
 "metadata": {
  "kernelspec": {
   "display_name": "Python 3",
   "language": "python",
   "name": "python3"
  },
  "language_info": {
   "codemirror_mode": {
    "name": "ipython",
    "version": 3
   },
   "file_extension": ".py",
   "mimetype": "text/x-python",
   "name": "python",
   "nbconvert_exporter": "python",
   "pygments_lexer": "ipython3",
   "version": "3.7.1"
  }
 },
 "nbformat": 4,
 "nbformat_minor": 2
}
